{
 "cells": [
  {
   "cell_type": "code",
   "execution_count": null,
   "id": "82a2600b-4c4c-4a48-a44f-ab25dd259050",
   "metadata": {},
   "outputs": [],
   "source": []
  },
  {
   "cell_type": "code",
   "execution_count": 23,
   "id": "d563f96a-01c0-4817-bd64-93d35209ceac",
   "metadata": {},
   "outputs": [],
   "source": [
    "from sklearn.datasets import fetch_california_housing\n",
    "from sklearn.model_selection import train_test_split\n",
    "from sklearn.preprocessing import StandardScaler\n",
    "from sklearn.linear_model import LinearRegression\n",
    "from sklearn.tree import DecisionTreeRegressor\n",
    "from sklearn.ensemble import RandomForestRegressor, GradientBoostingRegressor\n",
    "from sklearn.svm import SVR\n",
    "from sklearn.metrics import mean_squared_error, mean_absolute_error, r2_score\n",
    "import pandas as pd\n",
    "import numpy as np"
   ]
  },
  {
   "cell_type": "markdown",
   "id": "a07cfba3-c817-44a7-b791-23f7dab13d08",
   "metadata": {},
   "source": [
    "#### 1. Loading and Preprocessing "
   ]
  },
  {
   "cell_type": "code",
   "execution_count": 70,
   "id": "7d763b33-c030-42f3-8552-7cb762b936b9",
   "metadata": {},
   "outputs": [
    {
     "name": "stdout",
     "output_type": "stream",
     "text": [
      "       MedInc  HouseAge  AveRooms  AveBedrms  Population  AveOccup  Latitude  \\\n",
      "0      8.3252      41.0  6.984127   1.023810       322.0  2.555556     37.88   \n",
      "1      8.3014      21.0  6.238137   0.971880      2401.0  2.109842     37.86   \n",
      "2      7.2574      52.0  8.288136   1.073446       496.0  2.802260     37.85   \n",
      "3      5.6431      52.0  5.817352   1.073059       558.0  2.547945     37.85   \n",
      "4      3.8462      52.0  6.281853   1.081081       565.0  2.181467     37.85   \n",
      "...       ...       ...       ...        ...         ...       ...       ...   \n",
      "20635  1.5603      25.0  5.045455   1.133333       845.0  2.560606     39.48   \n",
      "20636  2.5568      18.0  6.114035   1.315789       356.0  3.122807     39.49   \n",
      "20637  1.7000      17.0  5.205543   1.120092      1007.0  2.325635     39.43   \n",
      "20638  1.8672      18.0  5.329513   1.171920       741.0  2.123209     39.43   \n",
      "20639  2.3886      16.0  5.254717   1.162264      1387.0  2.616981     39.37   \n",
      "\n",
      "       Longitude  Target  \n",
      "0        -122.23   4.526  \n",
      "1        -122.22   3.585  \n",
      "2        -122.24   3.521  \n",
      "3        -122.25   3.413  \n",
      "4        -122.25   3.422  \n",
      "...          ...     ...  \n",
      "20635    -121.09   0.781  \n",
      "20636    -121.21   0.771  \n",
      "20637    -121.22   0.923  \n",
      "20638    -121.32   0.847  \n",
      "20639    -121.24   0.894  \n",
      "\n",
      "[20640 rows x 9 columns]\n"
     ]
    }
   ],
   "source": [
    "# Loading dataset\n",
    "data = fetch_california_housing()\n",
    "df = pd.DataFrame(data.data, columns=data.feature_names)\n",
    "df['Target'] = data.target\n",
    "print(df)"
   ]
  },
  {
   "cell_type": "code",
   "execution_count": 11,
   "id": "12baf989-0875-4a26-8d3f-3ab0e06c35a4",
   "metadata": {},
   "outputs": [
    {
     "name": "stdout",
     "output_type": "stream",
     "text": [
      "<class 'pandas.core.frame.DataFrame'>\n",
      "RangeIndex: 20640 entries, 0 to 20639\n",
      "Data columns (total 9 columns):\n",
      " #   Column      Non-Null Count  Dtype  \n",
      "---  ------      --------------  -----  \n",
      " 0   MedInc      20640 non-null  float64\n",
      " 1   HouseAge    20640 non-null  float64\n",
      " 2   AveRooms    20640 non-null  float64\n",
      " 3   AveBedrms   20640 non-null  float64\n",
      " 4   Population  20640 non-null  float64\n",
      " 5   AveOccup    20640 non-null  float64\n",
      " 6   Latitude    20640 non-null  float64\n",
      " 7   Longitude   20640 non-null  float64\n",
      " 8   Target      20640 non-null  float64\n",
      "dtypes: float64(9)\n",
      "memory usage: 1.4 MB\n",
      "None\n"
     ]
    }
   ],
   "source": [
    "print(df.info())"
   ]
  },
  {
   "cell_type": "code",
   "execution_count": 13,
   "id": "9a137d41-8c77-43f1-9cf2-279c38ef4e2e",
   "metadata": {},
   "outputs": [
    {
     "name": "stdout",
     "output_type": "stream",
     "text": [
      "             MedInc      HouseAge      AveRooms     AveBedrms    Population  \\\n",
      "count  20640.000000  20640.000000  20640.000000  20640.000000  20640.000000   \n",
      "mean       3.870671     28.639486      5.429000      1.096675   1425.476744   \n",
      "std        1.899822     12.585558      2.474173      0.473911   1132.462122   \n",
      "min        0.499900      1.000000      0.846154      0.333333      3.000000   \n",
      "25%        2.563400     18.000000      4.440716      1.006079    787.000000   \n",
      "50%        3.534800     29.000000      5.229129      1.048780   1166.000000   \n",
      "75%        4.743250     37.000000      6.052381      1.099526   1725.000000   \n",
      "max       15.000100     52.000000    141.909091     34.066667  35682.000000   \n",
      "\n",
      "           AveOccup      Latitude     Longitude        Target  \n",
      "count  20640.000000  20640.000000  20640.000000  20640.000000  \n",
      "mean       3.070655     35.631861   -119.569704      2.068558  \n",
      "std       10.386050      2.135952      2.003532      1.153956  \n",
      "min        0.692308     32.540000   -124.350000      0.149990  \n",
      "25%        2.429741     33.930000   -121.800000      1.196000  \n",
      "50%        2.818116     34.260000   -118.490000      1.797000  \n",
      "75%        3.282261     37.710000   -118.010000      2.647250  \n",
      "max     1243.333333     41.950000   -114.310000      5.000010  \n"
     ]
    }
   ],
   "source": [
    "print(df.describe())"
   ]
  },
  {
   "cell_type": "code",
   "execution_count": 15,
   "id": "73881f48-5868-452e-8946-f64b1a296a20",
   "metadata": {},
   "outputs": [
    {
     "name": "stdout",
     "output_type": "stream",
     "text": [
      "   MedInc  HouseAge  AveRooms  AveBedrms  Population  AveOccup  Latitude  \\\n",
      "0  8.3252      41.0  6.984127   1.023810       322.0  2.555556     37.88   \n",
      "1  8.3014      21.0  6.238137   0.971880      2401.0  2.109842     37.86   \n",
      "2  7.2574      52.0  8.288136   1.073446       496.0  2.802260     37.85   \n",
      "3  5.6431      52.0  5.817352   1.073059       558.0  2.547945     37.85   \n",
      "4  3.8462      52.0  6.281853   1.081081       565.0  2.181467     37.85   \n",
      "\n",
      "   Longitude  Target  \n",
      "0    -122.23   4.526  \n",
      "1    -122.22   3.585  \n",
      "2    -122.24   3.521  \n",
      "3    -122.25   3.413  \n",
      "4    -122.25   3.422  \n"
     ]
    }
   ],
   "source": [
    "print(df.head())"
   ]
  },
  {
   "cell_type": "code",
   "execution_count": 17,
   "id": "58a83e49-41f5-447c-9ce4-9b026b2b0f63",
   "metadata": {},
   "outputs": [
    {
     "name": "stdout",
     "output_type": "stream",
     "text": [
      "\n",
      "Missing values in each column:\n",
      " MedInc        0\n",
      "HouseAge      0\n",
      "AveRooms      0\n",
      "AveBedrms     0\n",
      "Population    0\n",
      "AveOccup      0\n",
      "Latitude      0\n",
      "Longitude     0\n",
      "Target        0\n",
      "dtype: int64\n"
     ]
    }
   ],
   "source": [
    "print(\"\\nMissing values in each column:\\n\", df.isnull().sum())"
   ]
  },
  {
   "cell_type": "code",
   "execution_count": 72,
   "id": "229332d5-d672-4a54-909d-367739c5c4e8",
   "metadata": {},
   "outputs": [],
   "source": [
    "# Spliting dataset\n",
    "X = df.drop(columns=['Target'])\n",
    "y = df['Target']\n",
    "X_train, X_test, y_train, y_test = train_test_split(X, y, test_size=0.2, random_state=42)"
   ]
  },
  {
   "cell_type": "code",
   "execution_count": 74,
   "id": "243edf26-7a8d-47fa-975b-a7bb1f980a41",
   "metadata": {},
   "outputs": [],
   "source": [
    "# Feature Scaling\n",
    "scaler = StandardScaler()\n",
    "X_train_scaled = scaler.fit_transform(X_train)\n",
    "X_test_scaled = scaler.transform(X_test)"
   ]
  },
  {
   "cell_type": "markdown",
   "id": "ece7681b-08ad-45d0-a956-e05013ccff0e",
   "metadata": {},
   "source": [
    "#### 2. Regression Algorithm Implementation"
   ]
  },
  {
   "cell_type": "code",
   "execution_count": 60,
   "id": "c02102e0-25eb-4cc7-9454-c81eea26c223",
   "metadata": {},
   "outputs": [],
   "source": [
    "# Defining models\n",
    "models = {\n",
    "    \"Linear Regression\": LinearRegression(),\n",
    "    \"Decision Tree Regressor\": DecisionTreeRegressor(),\n",
    "    \"Random Forest Regressor\": RandomForestRegressor(n_estimators=100, random_state=42),\n",
    "    \"Gradient Boosting Regressor\": GradientBoostingRegressor(n_estimators=100, random_state=42),\n",
    "    \"Support Vector Regressor\": SVR()\n",
    "}"
   ]
  },
  {
   "cell_type": "markdown",
   "id": "7a5c4561-eab4-4eea-ab27-753dbfd54958",
   "metadata": {},
   "source": [
    "##### * Explanations and Suitability\n",
    "##### 1. Linear Regression: Fits a straight line; works well for linear data but may not capture complex patterns.\n",
    "##### 2. Decision Tree Regressor: Splits data into decision nodes; good for non-linear relationships but may overfit.\n",
    "#####  3. Random Forest Regressor: Uses multiple trees; reduces overfitting and works well for structured data.\n",
    "#####  4. Gradient Boosting Regressor: Boosts weak models sequentially; highly accurate for structured data.\n",
    "#####  5. Support Vector Regressor (SVR): Uses hyperplanes; effective for complex patterns but slow for large datasets."
   ]
  },
  {
   "cell_type": "markdown",
   "id": "abc84992-b0c7-4282-845a-7e2c08a949af",
   "metadata": {},
   "source": [
    "#### 3. Evaluate models"
   ]
  },
  {
   "cell_type": "code",
   "execution_count": 41,
   "id": "ea9fd914-eb9e-4846-9acf-6012efe3df7a",
   "metadata": {},
   "outputs": [
    {
     "name": "stdout",
     "output_type": "stream",
     "text": [
      "\n",
      "Linear Regression Results:\n",
      "MSE: 0.5558915986952442\n",
      "MAE: 0.5332001304956565\n",
      "R2 Score: 0.575787706032451\n",
      "\n",
      "Decision Tree Regressor Results:\n",
      "MSE: 0.49019832991671514\n",
      "MAE: 0.45542045058139535\n",
      "R2 Score: 0.6259195884213491\n",
      "\n",
      "Random Forest Regressor Results:\n",
      "MSE: 0.255169737347244\n",
      "MAE: 0.3274252027374032\n",
      "R2 Score: 0.8052747336256919\n",
      "\n",
      "Gradient Boosting Regressor Results:\n",
      "MSE: 0.29399901242474274\n",
      "MAE: 0.37165044848436773\n",
      "R2 Score: 0.7756433164710084\n",
      "\n",
      "Support Vector Regressor Results:\n",
      "MSE: 0.3570040319338641\n",
      "MAE: 0.3985990769520539\n",
      "R2 Score: 0.7275628923016779\n"
     ]
    }
   ],
   "source": [
    "results = {}\n",
    "for name, model in models.items():\n",
    "    model.fit(X_train_scaled, y_train)\n",
    "    y_pred = model.predict(X_test_scaled)\n",
    "    mse = mean_squared_error(y_test, y_pred)\n",
    "    mae = mean_absolute_error(y_test, y_pred)\n",
    "    r2 = r2_score(y_test, y_pred)\n",
    "    results[name] = {\"MSE\": mse, \"MAE\": mae, \"R2\": r2}\n",
    "    print(f\"\\n{name} Results:\")\n",
    "    print(f\"MSE: {mse}\")\n",
    "    print(f\"MAE: {mae}\")\n",
    "    print(f\"R2 Score: {r2}\")"
   ]
  },
  {
   "cell_type": "code",
   "execution_count": 43,
   "id": "f6ee8e67-c9e9-43a4-8092-27986bcb742a",
   "metadata": {},
   "outputs": [
    {
     "name": "stdout",
     "output_type": "stream",
     "text": [
      "\n",
      "Model Performance Comparison:\n",
      "                                  MSE       MAE        R2\n",
      "Linear Regression            0.555892  0.533200  0.575788\n",
      "Decision Tree Regressor      0.490198  0.455420  0.625920\n",
      "Random Forest Regressor      0.255170  0.327425  0.805275\n",
      "Gradient Boosting Regressor  0.293999  0.371650  0.775643\n",
      "Support Vector Regressor     0.357004  0.398599  0.727563\n"
     ]
    }
   ],
   "source": [
    "# Converting results\n",
    "results_df = pd.DataFrame(results).T\n",
    "print(\"\\nModel Performance Comparison:\")\n",
    "print(results_df)"
   ]
  },
  {
   "cell_type": "code",
   "execution_count": 45,
   "id": "9053b6cb-9692-4f5c-9f69-b011a94e2c4c",
   "metadata": {},
   "outputs": [
    {
     "data": {
      "image/png": "[encoded data removed]",
      "text/plain": [
       "<Figure size 1200x600 with 1 Axes>"
      ]
     },
     "metadata": {},
     "output_type": "display_data"
    }
   ],
   "source": [
    "# Visualization\n",
    "plt.figure(figsize=(12, 6))\n",
    "sns.barplot(data=results_df.reset_index(), x='index', y='R2', palette='viridis')\n",
    "plt.xticks(rotation=45)\n",
    "plt.xlabel(\"Regression Models\")\n",
    "plt.ylabel(\"R-Squared Score\")\n",
    "plt.title(\"Model Comparison Based on R-Squared Score\")\n",
    "plt.show()"
   ]
  },
  {
   "cell_type": "code",
   "execution_count": null,
   "id": "019e3008-6e22-44bd-8cca-8b4a9e670f6c",
   "metadata": {},
   "outputs": [],
   "source": []
  }
 ],
 "metadata": {
  "kernelspec": {
   "display_name": "Python 3 (ipykernel)",
   "language": "python",
   "name": "python3"
  },
  "language_info": {
   "codemirror_mode": {
    "name": "ipython",
    "version": 3
   },
   "file_extension": ".py",
   "mimetype": "text/x-python",
   "name": "python",
   "nbconvert_exporter": "python",
   "pygments_lexer": "ipython3",
   "version": "3.11.7"
  }
 },
 "nbformat": 4,
 "nbformat_minor": 5
}
